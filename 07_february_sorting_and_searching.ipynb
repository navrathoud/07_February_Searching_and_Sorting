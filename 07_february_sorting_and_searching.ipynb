{
 "cells": [
  {
   "cell_type": "markdown",
   "id": "7e774c53",
   "metadata": {},
   "source": [
    "# Problem 1 :\n",
    "Intersection of Two Sorted Arrays\n",
    "Write a Python program to find the intersection of two sorted arrays.\n",
    "Input:\n",
    "A = [1, 3, 5, 7, 9]\n",
    "B = [2, 4, 5, 8]\n",
    "Output:\n",
    "Intersection: [5]"
   ]
  },
  {
   "cell_type": "code",
   "execution_count": 1,
   "id": "d254119d",
   "metadata": {},
   "outputs": [
    {
     "data": {
      "text/plain": [
       "'intersection: 5'"
      ]
     },
     "execution_count": 1,
     "metadata": {},
     "output_type": "execute_result"
    }
   ],
   "source": [
    "A = [1, 3, 5, 7, 9] \n",
    "B = [2, 4, 5, 8]\n",
    "def intersection(arr1,arr2):\n",
    "    i=j=0\n",
    "    while i<len(arr1) and j<len(arr2):\n",
    "        if arr1[i]==arr2[j]:\n",
    "            return 'intersection: '+ str(arr1[i])\n",
    "        elif arr1[i]<arr2[j]:\n",
    "            i+=1\n",
    "        else:\n",
    "            j+=1\n",
    "    return \"None\"\n",
    "\n",
    "intersection(A,B)\n",
    "                \n",
    "    "
   ]
  },
  {
   "cell_type": "markdown",
   "id": "c80963c0",
   "metadata": {},
   "source": [
    "# Problem 2 :\n",
    "Find the Kth Smallest Element\n",
    "Write a Python function to find the kth smallest element in an unsorted list.\n",
    "Input:\n",
    "[12, 3, 1, 7, 8, 20], k = 3\n",
    "Output:\n",
    "The 3rd smallest element is 7"
   ]
  },
  {
   "cell_type": "code",
   "execution_count": 2,
   "id": "3b99ea77",
   "metadata": {},
   "outputs": [
    {
     "data": {
      "text/plain": [
       "7"
      ]
     },
     "execution_count": 2,
     "metadata": {},
     "output_type": "execute_result"
    }
   ],
   "source": [
    "def partition(arr,low,high):\n",
    "    pivot = arr[high]\n",
    "    i=low-1\n",
    "    #find partion index where pivot element seperate (each division)\n",
    "    for j in range(low,high):\n",
    "        if arr[j]<=pivot:\n",
    "            i+=1\n",
    "            arr[i],arr[j]=arr[j],arr[i]\n",
    "    arr[i+1],arr[high]=arr[high],arr[i+1]\n",
    "    return i+1\n",
    "\n",
    "def find_klargest(arr,low,high,k):\n",
    "    #handle wrong input\n",
    "    if not arr or k<1:\n",
    "        return 'wrong input'\n",
    "    #base condition\n",
    "    elif low>=high:\n",
    "        return\n",
    "    #recursive code\n",
    "    else:\n",
    "        pi_index = partition(arr,low,high)\n",
    "    \n",
    "        if pi_index==k:\n",
    "            return\n",
    "        else:\n",
    "\n",
    "            find_klargest(arr,low,pi_index-1,k)\n",
    "            find_klargest(arr,pi_index+1,high,k)\n",
    "        return arr[k]\n",
    "\n",
    "\n",
    "arr = [12, 3, 1, 7, 8, 20]\n",
    "k = 3\n",
    "find_klargest(arr,0,len(arr)-1,k-1)\n"
   ]
  },
  {
   "cell_type": "markdown",
   "id": "763f1927",
   "metadata": {},
   "source": [
    "# Problem 3 :\n",
    "Binary Search in a Rotated Sorted Array\n",
    "Implement a Python program to perform a binary search on a rotated sorted array.\n",
    "Input:\n",
    "[4, 5, 6, 7, 8, 9, 1, 2, 3], 6\n",
    "Output:\n",
    "Element 6 found at index 2"
   ]
  },
  {
   "cell_type": "code",
   "execution_count": 3,
   "id": "586daa73",
   "metadata": {},
   "outputs": [
    {
     "name": "stdout",
     "output_type": "stream",
     "text": [
      "Element 3 found at index 8\n"
     ]
    }
   ],
   "source": [
    "def binary_search(arr,low,high,target):\n",
    "    if low>high:\n",
    "        return\n",
    "    \n",
    "    mid = (low+high)//2\n",
    "    if arr[mid]==target:\n",
    "        print(\"Element \"+str(target)+' found at index '+str(mid))\n",
    "    #check left sorted\n",
    "    if arr[low]<=arr[mid]:\n",
    "        if arr[low]<=target and arr[mid]>target:\n",
    "            return binary_search(arr,low,mid-1,target)\n",
    "        else:\n",
    "            return binary_search(arr,mid+1,high,target)\n",
    "    #check right sorted       \n",
    "    else:\n",
    "        if arr[mid]<target and arr[high]>=target:\n",
    "            return binary_search(arr,mid+1,high,target)\n",
    "        else:\n",
    "            return binary_search(arr,low,mid-1,target)\n",
    "        \n",
    "    \n",
    "arr = [4, 5, 6, 7, 8, 9, 1, 2, 3]\n",
    "target = 3\n",
    "binary_search(arr,0,len(arr)-1,target)"
   ]
  },
  {
   "cell_type": "markdown",
   "id": "cda95fcf",
   "metadata": {},
   "source": [
    "# Problem 4 :\n",
    "Searching in a Matrix\n",
    "Write a Python program that searches for a given element in a 2D matrix and returns its position.\n",
    "Input:\n",
    "Matrix = [\n",
    "[1, 3, 5],\n",
    "[7, 9, 11],\n",
    "[13, 15, 17]\n",
    "]\n",
    "Element = 11"
   ]
  },
  {
   "cell_type": "code",
   "execution_count": 4,
   "id": "51da2e1f",
   "metadata": {},
   "outputs": [
    {
     "name": "stdout",
     "output_type": "stream",
     "text": [
      "Element 11 found at position (1, 2)\n"
     ]
    }
   ],
   "source": [
    "matrix = [ [1, 3, 5], [7, 9, 11], [13, 15, 17] ]\n",
    "element = 11\n",
    "\n",
    "rows=len(matrix)-1\n",
    "cols=len(matrix[0])-1\n",
    "row=0\n",
    "col=cols\n",
    "\n",
    "while row<=rows and col>=0:\n",
    "    if matrix[row][col]==element:\n",
    "        print(f\"Element {element} found at position {(row,col)}\")\n",
    "        break\n",
    "    else:\n",
    "        if element>matrix[row][col]:\n",
    "            row+=1\n",
    "        else:\n",
    "            col-=1\n"
   ]
  },
  {
   "cell_type": "markdown",
   "id": "a26a510c",
   "metadata": {},
   "source": [
    "# Sorting Strings by Length\n",
    "Write a Python program that takes a list of strings and sorts them based on their length."
   ]
  },
  {
   "cell_type": "code",
   "execution_count": 5,
   "id": "3b025d87",
   "metadata": {},
   "outputs": [
    {
     "data": {
      "text/plain": [
       "['kiwi', 'apple', 'grape', 'banana', 'orange']"
      ]
     },
     "execution_count": 5,
     "metadata": {},
     "output_type": "execute_result"
    }
   ],
   "source": [
    "# Input:\n",
    "# ['apple', 'banana', 'kiwi', 'orange', 'grape']\n",
    "# Output:\n",
    "# ['kiwi', 'grape', 'apple', 'banana', 'orange']\n",
    "\n",
    "def sort_string(arr):\n",
    "    return sorted(arr,key=len)\n",
    "arr=['apple', 'banana', 'kiwi', 'orange', 'grape']\n",
    "sort_string(arr)"
   ]
  },
  {
   "cell_type": "markdown",
   "id": "7c4a4e3e",
   "metadata": {},
   "source": [
    "# Problem 6 :\n",
    "Implementing the merge sort"
   ]
  },
  {
   "cell_type": "code",
   "execution_count": 6,
   "id": "fcd630a7",
   "metadata": {},
   "outputs": [
    {
     "data": {
      "text/plain": [
       "[0, 1, 1, 3, 4, 20]"
      ]
     },
     "execution_count": 6,
     "metadata": {},
     "output_type": "execute_result"
    }
   ],
   "source": [
    "def mergesort(arr):\n",
    "    if len(arr)<=1:\n",
    "        return arr\n",
    "    \n",
    "    mid=len(arr)//2\n",
    "\n",
    "    L=arr[:mid]\n",
    "    R=arr[mid:]\n",
    "\n",
    "    mergesort(L)\n",
    "    mergesort(R)\n",
    "\n",
    "    return merge(L,R,arr)\n",
    "    \n",
    "def merge(L,R,arr):\n",
    "    i=j=k=0\n",
    "    while i<len(L) and j<len(R):\n",
    "        if L[i]<=R[j]:\n",
    "            arr[k]=L[i]\n",
    "            i+=1\n",
    "        else:\n",
    "            arr[k]=R[j]\n",
    "            j+=1\n",
    "        k+=1\n",
    "        \n",
    "    while i<len(L):\n",
    "        arr[k]=L[i]\n",
    "        i+=1\n",
    "        k+=1\n",
    "        \n",
    "    while j<len(R):\n",
    "        arr[k]=R[j]\n",
    "        j+=1\n",
    "        k+=1\n",
    "        \n",
    "    return arr\n",
    "\n",
    "arr=[1, 3, 20, 4, 1, 0]\n",
    "mergesort(arr)"
   ]
  },
  {
   "cell_type": "markdown",
   "id": "b3bbbd98",
   "metadata": {},
   "source": [
    "# Problem 7 :\n",
    "Implementing the quick sort`"
   ]
  },
  {
   "cell_type": "code",
   "execution_count": 7,
   "id": "9002ffda",
   "metadata": {},
   "outputs": [
    {
     "data": {
      "text/plain": [
       "[0, 1, 1, 3, 4, 20]"
      ]
     },
     "execution_count": 7,
     "metadata": {},
     "output_type": "execute_result"
    }
   ],
   "source": [
    "def quicksort(arr,low,high):\n",
    "    if low<high:\n",
    "        \n",
    "        pi = partition(arr,low,high)\n",
    "        \n",
    "        quicksort(arr,low,pi-1)\n",
    "        quicksort(arr,pi+1,high)\n",
    "        \n",
    "        return arr\n",
    "        \n",
    "def partition(arr,low,high):\n",
    "    pivot = arr[high]\n",
    "    i=low-1\n",
    "    for j in range(low,high):\n",
    "        if arr[j]<=pivot:\n",
    "            i+=1\n",
    "            arr[i],arr[j]=arr[j],arr[i]\n",
    "    arr[i+1],arr[high]=arr[high],arr[i+1]\n",
    "    return i+1\n",
    "            \n",
    "arr=[1, 3, 20, 4, 1, 0]\n",
    "quicksort(arr,0,len(arr)-1)\n",
    "    "
   ]
  },
  {
   "cell_type": "markdown",
   "id": "a2023e87",
   "metadata": {},
   "source": [
    "# Problem 8 :\n",
    "Implementing the count sort"
   ]
  },
  {
   "cell_type": "code",
   "execution_count": 8,
   "id": "a0b6b767",
   "metadata": {},
   "outputs": [
    {
     "data": {
      "text/plain": [
       "[0, 0, 2, 2, 3, 3, 3, 5]"
      ]
     },
     "execution_count": 8,
     "metadata": {},
     "output_type": "execute_result"
    }
   ],
   "source": [
    "def countingsort(arr):\n",
    "    #step1 find maximum element\n",
    "    maximum=arr[0]\n",
    "    for i in range(1,len(arr)):\n",
    "        if arr[i]>maximum:\n",
    "            maximum=arr[i]\n",
    "    #step2 create counting array with highest index value is equal to maximum\n",
    "    counting_array = [0]*(maximum+1)\n",
    "    \n",
    "    #step3 fill index value with element frequency occur in input array or arr\n",
    "    for element in arr:\n",
    "        counting_array[element]+=1\n",
    "    \n",
    "    #step4 fill counting_array with cumulative sum\n",
    "    for i in range(1,len(counting_array)):\n",
    "        counting_array[i]+=counting_array[i-1]\n",
    "        \n",
    "    #step5 make output_array to store all element\n",
    "    output_array = [0]*len(arr)\n",
    "    #step6 start from last index of input array\n",
    "    for i in range(len(arr)-1,-1,-1):\n",
    "        output_array[counting_array[arr[i]]-1] = arr[i]\n",
    "        counting_array[arr[i]]-=1\n",
    "        \n",
    "    return output_array\n",
    "    \n",
    "    \n",
    "arr=[2,5,3,0,2,3,0,3]    \n",
    "countingsort(arr)"
   ]
  },
  {
   "cell_type": "markdown",
   "id": "7d3a2528",
   "metadata": {},
   "source": [
    "# Problem 9 :\n",
    "Implement a Python function to find a peak element in an array. A peak element is an element that is greater\n",
    "than or equal to its neighbors.\n",
    "Input:\n",
    "[1, 3, 20, 4, 1, 0]\n",
    "Output:Peak element is 20"
   ]
  },
  {
   "cell_type": "code",
   "execution_count": 9,
   "id": "0db7700b",
   "metadata": {},
   "outputs": [
    {
     "data": {
      "text/plain": [
       "20"
      ]
     },
     "execution_count": 9,
     "metadata": {},
     "output_type": "execute_result"
    }
   ],
   "source": [
    "def peak(arr):\n",
    "    if not arr:\n",
    "        return 'Empty Array'\n",
    "    elif arr[-1]>=arr[-2] and arr[-1]>=arr[0]:\n",
    "        return arr[-1]\n",
    "    i=0\n",
    "    while i<len(arr)-1:\n",
    "        if arr[i-1]<=arr[i] and arr[i]>=arr[i+1]:\n",
    "            return arr[i]\n",
    "        else:\n",
    "            i+=1\n",
    "arr= [1, 3, 20, 4, 1, 0] \n",
    "peak(arr)\n",
    "        "
   ]
  },
  {
   "cell_type": "markdown",
   "id": "ac35d0dd",
   "metadata": {},
   "source": [
    "# Problem 10 :\n",
    "Search in a Nearly Sorted Array\n",
    "Implement a Python program to perform a binary search in a nearly sorted array. In a nearly sorted array, each\n",
    "element is at most k positions away from its sorted position.\n",
    "Input:\n",
    "[2, 1, 3, 4, 6, 5, 7], k = 1\n",
    "Output:\n",
    "Element 5 found at index 4"
   ]
  },
  {
   "cell_type": "code",
   "execution_count": 10,
   "id": "19de76e2",
   "metadata": {},
   "outputs": [
    {
     "name": "stdout",
     "output_type": "stream",
     "text": [
      "Element 6 found at index 4\n"
     ]
    }
   ],
   "source": [
    "def binary_search(arr,low,high,k,target):\n",
    "    if low<high:\n",
    "        mid = (low+high)//2\n",
    "        if arr[mid]==target:\n",
    "            return mid\n",
    "\n",
    "        for i in range(mid-k,mid+k+1):\n",
    "            if arr[i]==target:\n",
    "                return i\n",
    "            \n",
    "        if arr[mid]>target:\n",
    "            return binary_search(arr,low,mid-1,k,target)\n",
    "        return binary_search(arr,mid+1,high,k,target)\n",
    "    return -1\n",
    "\n",
    "arr=[2, 1, 3, 4, 6, 5, 7]\n",
    "k=1\n",
    "target = 6\n",
    "index = binary_search(arr,0,len(arr)-1,k,target)\n",
    "if index:\n",
    "    print(f'Element {target} found at index {index}')\n",
    "else:\n",
    "    print(\"None\")"
   ]
  },
  {
   "cell_type": "code",
   "execution_count": null,
   "id": "025cc3bb",
   "metadata": {},
   "outputs": [],
   "source": []
  },
  {
   "cell_type": "code",
   "execution_count": null,
   "id": "91c8cab0",
   "metadata": {},
   "outputs": [],
   "source": []
  },
  {
   "cell_type": "code",
   "execution_count": null,
   "id": "ae86c16d",
   "metadata": {},
   "outputs": [],
   "source": []
  }
 ],
 "metadata": {
  "kernelspec": {
   "display_name": "Python 3",
   "language": "python",
   "name": "python3"
  },
  "language_info": {
   "codemirror_mode": {
    "name": "ipython",
    "version": 3
   },
   "file_extension": ".py",
   "mimetype": "text/x-python",
   "name": "python",
   "nbconvert_exporter": "python",
   "pygments_lexer": "ipython3",
   "version": "3.8.5"
  }
 },
 "nbformat": 4,
 "nbformat_minor": 5
}
